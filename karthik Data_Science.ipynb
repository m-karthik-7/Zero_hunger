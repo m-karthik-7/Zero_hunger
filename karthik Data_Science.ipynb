{
  "nbformat": 4,
  "nbformat_minor": 0,
  "metadata": {
    "colab": {
      "provenance": []
    },
    "kernelspec": {
      "name": "python3",
      "display_name": "Python 3"
    },
    "language_info": {
      "name": "python"
    }
  },
  "cells": [
    {
      "cell_type": "code",
      "execution_count": null,
      "metadata": {
        "id": "DZWE5S2ReaGM"
      },
      "outputs": [],
      "source": [
        "import pandas as pd"
      ]
    },
    {
      "cell_type": "code",
      "source": [
        "df = pd.read_excel(\"/content/Titanic_visu.xlsx\")"
      ],
      "metadata": {
        "id": "SQBmgJg_fdps"
      },
      "execution_count": null,
      "outputs": []
    },
    {
      "cell_type": "markdown",
      "source": [
        "7. Draw the line plot between Age and Concession. Observe the trend line.\n"
      ],
      "metadata": {
        "id": "jgUh_v5pgXUN"
      }
    },
    {
      "cell_type": "code",
      "source": [
        "import matplotlib.pyplot as plt\n",
        "plt.plot(df['Age'].head(10), df['Concession'].head(10), marker = 'o', color = 'red')"
      ],
      "metadata": {
        "colab": {
          "base_uri": "https://localhost:8080/",
          "height": 283
        },
        "id": "C3VaZKU0fQgM",
        "outputId": "f8e08131-bd72-4c87-8d10-7ab42d27586a"
      },
      "execution_count": null,
      "outputs": [
        {
          "output_type": "execute_result",
          "data": {
            "text/plain": [
              "[<matplotlib.lines.Line2D at 0x7f541df76610>]"
            ]
          },
          "metadata": {},
          "execution_count": 10
        },
        {
          "output_type": "display_data",
          "data": {
            "text/plain": [
              "<Figure size 432x288 with 1 Axes>"
            ],
            "image/png": "[encoded data removed]"
          },
          "metadata": {
            "needs_background": "light"
          }
        }
      ]
    },
    {
      "cell_type": "markdown",
      "source": [
        "8. Draw the scatter plot between Fare and New_Fare. Observe the correlation"
      ],
      "metadata": {
        "id": "dKFuVuvygxQj"
      }
    },
    {
      "cell_type": "code",
      "source": [
        "x = df['Fare']\n",
        "y = df['New_Fare']\n",
        "plt.scatter(x, y, c = 'red')\n",
        "#it is a positive correlation"
      ],
      "metadata": {
        "colab": {
          "base_uri": "https://localhost:8080/",
          "height": 283
        },
        "id": "Mv9ZJrfHfUGd",
        "outputId": "439fd9d9-0e25-4f52-e77b-d8ddc40c5479"
      },
      "execution_count": null,
      "outputs": [
        {
          "output_type": "execute_result",
          "data": {
            "text/plain": [
              "<matplotlib.collections.PathCollection at 0x7f541b684a30>"
            ]
          },
          "metadata": {},
          "execution_count": 11
        },
        {
          "output_type": "display_data",
          "data": {
            "text/plain": [
              "<Figure size 432x288 with 1 Axes>"
            ],
            "image/png": "[encoded data removed]"
          },
          "metadata": {
            "needs_background": "light"
          }
        }
      ]
    },
    {
      "cell_type": "markdown",
      "source": [
        "9. Draw the scatter plot between Age and Fare. Observe the correlation."
      ],
      "metadata": {
        "id": "znPC9GWNg-D4"
      }
    },
    {
      "cell_type": "code",
      "source": [
        "x = df['Age']\n",
        "y = df['Fare']\n",
        "plt.scatter(x, y, c = 'red')\n",
        "#it is a positive correlation"
      ],
      "metadata": {
        "colab": {
          "base_uri": "https://localhost:8080/",
          "height": 283
        },
        "id": "UJTo4NX3g8Pz",
        "outputId": "79298600-5863-4f78-8759-9a754875caf4"
      },
      "execution_count": null,
      "outputs": [
        {
          "output_type": "execute_result",
          "data": {
            "text/plain": [
              "<matplotlib.collections.PathCollection at 0x7f541b59d6a0>"
            ]
          },
          "metadata": {},
          "execution_count": 12
        },
        {
          "output_type": "display_data",
          "data": {
            "text/plain": [
              "<Figure size 432x288 with 1 Axes>"
            ],
            "image/png": "[encoded data removed]"
          },
          "metadata": {
            "needs_background": "light"
          }
        }
      ]
    },
    {
      "cell_type": "markdown",
      "source": [
        "10. Draw the box plot to show the statistical summary of Age column and verify with\n",
        "describe()."
      ],
      "metadata": {
        "id": "RTwXI5t0hKkf"
      }
    },
    {
      "cell_type": "code",
      "source": [
        "plt.boxplot(df['Age']);"
      ],
      "metadata": {
        "colab": {
          "base_uri": "https://localhost:8080/",
          "height": 265
        },
        "id": "xWardN1dhIvQ",
        "outputId": "d05abd14-af52-463e-a010-34be2dece52d"
      },
      "execution_count": null,
      "outputs": [
        {
          "output_type": "display_data",
          "data": {
            "text/plain": [
              "<Figure size 432x288 with 1 Axes>"
            ],
            "image/png": "[encoded data removed]"
          },
          "metadata": {
            "needs_background": "light"
          }
        }
      ]
    },
    {
      "cell_type": "markdown",
      "source": [
        "11. Draw the histogram plot for Concession column"
      ],
      "metadata": {
        "id": "VIEIbl9Kha75"
      }
    },
    {
      "cell_type": "code",
      "source": [
        "plt.hist(df[\"Concession\"]);"
      ],
      "metadata": {
        "colab": {
          "base_uri": "https://localhost:8080/",
          "height": 265
        },
        "id": "vYDdqEDehWDY",
        "outputId": "3af13b2f-3a05-40e6-eb0e-c3e454446870"
      },
      "execution_count": null,
      "outputs": [
        {
          "output_type": "display_data",
          "data": {
            "text/plain": [
              "<Figure size 432x288 with 1 Axes>"
            ],
            "image/png": "[encoded data removed]"
          },
          "metadata": {
            "needs_background": "light"
          }
        }
      ]
    },
    {
      "cell_type": "markdown",
      "source": [
        "12. Draw the histogram plot for Concession column with bin value and PDF."
      ],
      "metadata": {
        "id": "1x-ZrVAYiJNt"
      }
    },
    {
      "cell_type": "code",
      "source": [
        "plt.hist(df[\"Concession\"],edgecolor = 'white',bins = 5,density=True);"
      ],
      "metadata": {
        "colab": {
          "base_uri": "https://localhost:8080/",
          "height": 265
        },
        "id": "nWeVpJ0khqiI",
        "outputId": "0f755586-2a3e-4eb2-9208-79e6d5aee9d2"
      },
      "execution_count": null,
      "outputs": [
        {
          "output_type": "display_data",
          "data": {
            "text/plain": [
              "<Figure size 432x288 with 1 Axes>"
            ],
            "image/png": "[encoded data removed]"
          },
          "metadata": {
            "needs_background": "light"
          }
        }
      ]
    },
    {
      "cell_type": "markdown",
      "source": [
        "Group - 1:\n",
        "\n",
        "Develop a KNN classification model for the Social_Network dataset using the scikit-learn\n",
        "\n",
        "a. Use the columns: 'Gender', 'Age', 'EstimatedSalary' as the independent variables\n",
        "\n",
        "b. Use the target variable as 'Purchased' (Yes-Y, No-N)\n",
        "\n",
        "c. Encode the categorical value of the target column to numerical value\n",
        "\n",
        "d. Divide the data into training (75%) and testing set (25%)\n",
        "\n",
        "e. Perform the classification with K=3\n",
        "\n",
        "f. Analyse the performance of the classifier with various performance measures such as\n",
        "confusion matrix, accuracy, recall, precision, specificity, \n",
        "f-score, Receiver operating\n",
        "characteristic (ROC) curve and Area Under Curve (AUC) score. \n",
        "\n",
        "g. Perform feature scaling on independent variables and analyse the performance\n",
        "\n",
        "h. Change the value of K in KNN with 5,7,9,11 and tabulate the various TP, TN, accuracy, f-score and AUC score obtained. K value TP TN Accuracy f-score AUC score\n",
        "\n",
        "i. Analyse for which K value, the classification algorithm provides better performance."
      ],
      "metadata": {
        "id": "JZlICD1Udqin"
      }
    },
    {
      "cell_type": "code",
      "source": [
        "import numpy as np\n",
        "from sklearn.model_selection import train_test_split\n",
        "from sklearn.preprocessing import StandardScaler\n",
        "from sklearn.neighbors import KNeighborsClassifier\n",
        "from sklearn.metrics import confusion_matrix\n",
        "from sklearn.metrics import accuracy_score\n",
        "from sklearn.metrics import classification_report, roc_curve, auc\n",
        "import matplotlib.pyplot as plt"
      ],
      "metadata": {
        "id": "QfsK2Lwkg6Sr"
      },
      "execution_count": null,
      "outputs": []
    },
    {
      "cell_type": "code",
      "source": [
        "df.dropna(inplace = True)"
      ],
      "metadata": {
        "id": "gHgKLb0bg9Q1"
      },
      "execution_count": null,
      "outputs": []
    },
    {
      "cell_type": "code",
      "source": [
        "social_networks = pd.read_csv(\"/content/Social_Network.csv\")"
      ],
      "metadata": {
        "id": "gk52k7F4fs_M"
      },
      "execution_count": null,
      "outputs": []
    },
    {
      "cell_type": "code",
      "source": [
        "social_networks.head()"
      ],
      "metadata": {
        "colab": {
          "base_uri": "https://localhost:8080/",
          "height": 206
        },
        "id": "DUFJbivAhktk",
        "outputId": "3bdaf509-fe5f-41b0-f2e1-bc038d437884"
      },
      "execution_count": null,
      "outputs": [
        {
          "output_type": "execute_result",
          "data": {
            "text/plain": [
              "    User ID  Gender  Age  EstimatedSalary Purchased\n",
              "0  15668575       0   26            43000        No\n",
              "1  15603246       0   27            57000        No\n",
              "2  15598044       0   27            84000        No\n",
              "3  15727311       0   35            65000        No\n",
              "4  15570769       0   26            80000        No"
            ],
            "text/html": [
              "\n",
              "  <div id=\"df-04fe2009-d60a-4c20-82a4-48a0ac5c0b77\">\n",
              "    <div class=\"colab-df-container\">\n",
              "      <div>\n",
              "<style scoped>\n",
              "    .dataframe tbody tr th:only-of-type {\n",
              "        vertical-align: middle;\n",
              "    }\n",
              "\n",
              "    .dataframe tbody tr th {\n",
              "        vertical-align: top;\n",
              "    }\n",
              "\n",
              "    .dataframe thead th {\n",
              "        text-align: right;\n",
              "    }\n",
              "</style>\n",
              "<table border=\"1\" class=\"dataframe\">\n",
              "  <thead>\n",
              "    <tr style=\"text-align: right;\">\n",
              "      <th></th>\n",
              "      <th>User ID</th>\n",
              "      <th>Gender</th>\n",
              "      <th>Age</th>\n",
              "      <th>EstimatedSalary</th>\n",
              "      <th>Purchased</th>\n",
              "    </tr>\n",
              "  </thead>\n",
              "  <tbody>\n",
              "    <tr>\n",
              "      <th>0</th>\n",
              "      <td>15668575</td>\n",
              "      <td>0</td>\n",
              "      <td>26</td>\n",
              "      <td>43000</td>\n",
              "      <td>No</td>\n",
              "    </tr>\n",
              "    <tr>\n",
              "      <th>1</th>\n",
              "      <td>15603246</td>\n",
              "      <td>0</td>\n",
              "      <td>27</td>\n",
              "      <td>57000</td>\n",
              "      <td>No</td>\n",
              "    </tr>\n",
              "    <tr>\n",
              "      <th>2</th>\n",
              "      <td>15598044</td>\n",
              "      <td>0</td>\n",
              "      <td>27</td>\n",
              "      <td>84000</td>\n",
              "      <td>No</td>\n",
              "    </tr>\n",
              "    <tr>\n",
              "      <th>3</th>\n",
              "      <td>15727311</td>\n",
              "      <td>0</td>\n",
              "      <td>35</td>\n",
              "      <td>65000</td>\n",
              "      <td>No</td>\n",
              "    </tr>\n",
              "    <tr>\n",
              "      <th>4</th>\n",
              "      <td>15570769</td>\n",
              "      <td>0</td>\n",
              "      <td>26</td>\n",
              "      <td>80000</td>\n",
              "      <td>No</td>\n",
              "    </tr>\n",
              "  </tbody>\n",
              "</table>\n",
              "</div>\n",
              "      <button class=\"colab-df-convert\" onclick=\"convertToInteractive('df-04fe2009-d60a-4c20-82a4-48a0ac5c0b77')\"\n",
              "              title=\"Convert this dataframe to an interactive table.\"\n",
              "              style=\"display:none;\">\n",
              "        \n",
              "  <svg xmlns=\"http://www.w3.org/2000/svg\" height=\"24px\"viewBox=\"0 0 24 24\"\n",
              "       width=\"24px\">\n",
              "    <path d=\"M0 0h24v24H0V0z\" fill=\"none\"/>\n",
              "    <path d=\"M18.56 5.44l.94 2.06.94-2.06 2.06-.94-2.06-.94-.94-2.06-.94 2.06-2.06.94zm-11 1L8.5 8.5l.94-2.06 2.06-.94-2.06-.94L8.5 2.5l-.94 2.06-2.06.94zm10 10l.94 2.06.94-2.06 2.06-.94-2.06-.94-.94-2.06-.94 2.06-2.06.94z\"/><path d=\"M17.41 7.96l-1.37-1.37c-.4-.4-.92-.59-1.43-.59-.52 0-1.04.2-1.43.59L10.3 9.45l-7.72 7.72c-.78.78-.78 2.05 0 2.83L4 21.41c.39.39.9.59 1.41.59.51 0 1.02-.2 1.41-.59l7.78-7.78 2.81-2.81c.8-.78.8-2.07 0-2.86zM5.41 20L4 18.59l7.72-7.72 1.47 1.35L5.41 20z\"/>\n",
              "  </svg>\n",
              "      </button>\n",
              "      \n",
              "  <style>\n",
              "    .colab-df-container {\n",
              "      display:flex;\n",
              "      flex-wrap:wrap;\n",
              "      gap: 12px;\n",
              "    }\n",
              "\n",
              "    .colab-df-convert {\n",
              "      background-color: #E8F0FE;\n",
              "      border: none;\n",
              "      border-radius: 50%;\n",
              "      cursor: pointer;\n",
              "      display: none;\n",
              "      fill: #1967D2;\n",
              "      height: 32px;\n",
              "      padding: 0 0 0 0;\n",
              "      width: 32px;\n",
              "    }\n",
              "\n",
              "    .colab-df-convert:hover {\n",
              "      background-color: #E2EBFA;\n",
              "      box-shadow: 0px 1px 2px rgba(60, 64, 67, 0.3), 0px 1px 3px 1px rgba(60, 64, 67, 0.15);\n",
              "      fill: #174EA6;\n",
              "    }\n",
              "\n",
              "    [theme=dark] .colab-df-convert {\n",
              "      background-color: #3B4455;\n",
              "      fill: #D2E3FC;\n",
              "    }\n",
              "\n",
              "    [theme=dark] .colab-df-convert:hover {\n",
              "      background-color: #434B5C;\n",
              "      box-shadow: 0px 1px 3px 1px rgba(0, 0, 0, 0.15);\n",
              "      filter: drop-shadow(0px 1px 2px rgba(0, 0, 0, 0.3));\n",
              "      fill: #FFFFFF;\n",
              "    }\n",
              "  </style>\n",
              "\n",
              "      <script>\n",
              "        const buttonEl =\n",
              "          document.querySelector('#df-04fe2009-d60a-4c20-82a4-48a0ac5c0b77 button.colab-df-convert');\n",
              "        buttonEl.style.display =\n",
              "          google.colab.kernel.accessAllowed ? 'block' : 'none';\n",
              "\n",
              "        async function convertToInteractive(key) {\n",
              "          const element = document.querySelector('#df-04fe2009-d60a-4c20-82a4-48a0ac5c0b77');\n",
              "          const dataTable =\n",
              "            await google.colab.kernel.invokeFunction('convertToInteractive',\n",
              "                                                     [key], {});\n",
              "          if (!dataTable) return;\n",
              "\n",
              "          const docLinkHtml = 'Like what you see? Visit the ' +\n",
              "            '<a target=\"_blank\" href=https://colab.research.google.com/notebooks/data_table.ipynb>data table notebook</a>'\n",
              "            + ' to learn more about interactive tables.';\n",
              "          element.innerHTML = '';\n",
              "          dataTable['output_type'] = 'display_data';\n",
              "          await google.colab.output.renderOutput(dataTable, element);\n",
              "          const docLink = document.createElement('div');\n",
              "          docLink.innerHTML = docLinkHtml;\n",
              "          element.appendChild(docLink);\n",
              "        }\n",
              "      </script>\n",
              "    </div>\n",
              "  </div>\n",
              "  "
            ]
          },
          "metadata": {},
          "execution_count": 28
        }
      ]
    },
    {
      "cell_type": "markdown",
      "source": [
        "a. Use the columns: 'Gender', 'Age', 'EstimatedSalary' as the independent variables"
      ],
      "metadata": {
        "id": "bES3RCPbkq_T"
      }
    },
    {
      "cell_type": "code",
      "source": [
        "x=social_networks.loc[:,[\"Gender\", \"Age\", \"EstimatedSalary\"]].values\n",
        "print(x)"
      ],
      "metadata": {
        "colab": {
          "base_uri": "https://localhost:8080/"
        },
        "id": "Tx8WzhdyiVj2",
        "outputId": "29deed1c-deff-4328-fea0-efdff94ff2e4"
      },
      "execution_count": null,
      "outputs": [
        {
          "output_type": "stream",
          "name": "stdout",
          "text": [
            "[[    0    26 43000]\n",
            " [    0    27 57000]\n",
            " [    0    27 84000]\n",
            " ...\n",
            " [    1    47 23000]\n",
            " [    1    60 42000]\n",
            " [    1    51 23000]]\n"
          ]
        }
      ]
    },
    {
      "cell_type": "markdown",
      "source": [
        "b. Use the target variable as 'Purchased' (Yes-Y, No-N)"
      ],
      "metadata": {
        "id": "xRW-N09DkrzF"
      }
    },
    {
      "cell_type": "code",
      "source": [
        "y = social_networks.loc[:, 'Purchased'].values\n",
        "print(y)"
      ],
      "metadata": {
        "colab": {
          "base_uri": "https://localhost:8080/"
        },
        "id": "vM8oVv6ffe8S",
        "outputId": "c30cbf84-b931-4cfa-e3ca-7acd43761b0c"
      },
      "execution_count": null,
      "outputs": [
        {
          "output_type": "stream",
          "name": "stdout",
          "text": [
            "['No' 'No' 'No' 'No' 'No' 'No' 'No' 'No' 'No' 'No' 'No' 'No' 'No' 'No'\n",
            " 'No' 'No' 'No' 'No' 'No' 'No' 'No' 'No' 'No' 'No' 'No' 'No' 'No' 'No'\n",
            " 'No' 'No' 'No' 'No' 'No' 'No' 'No' 'No' 'No' 'No' 'No' 'No' 'No' 'No'\n",
            " 'No' 'No' 'No' 'No' 'No' 'No' 'No' 'No' 'No' 'No' 'No' 'No' 'No' 'No'\n",
            " 'No' 'No' 'No' 'No' 'No' 'No' 'No' 'No' 'No' 'No' 'No' 'No' 'No' 'No'\n",
            " 'No' 'No' 'No' 'No' 'No' 'No' 'No' 'No' 'No' 'No' 'No' 'No' 'No' 'No'\n",
            " 'No' 'No' 'No' 'No' 'No' 'No' 'No' 'No' 'No' 'No' 'No' 'No' 'No' 'No'\n",
            " 'No' 'No' 'No' 'No' 'No' 'No' 'No' 'No' 'No' 'No' 'No' 'No' 'No' 'No'\n",
            " 'No' 'No' 'No' 'No' 'No' 'No' 'No' 'No' 'No' 'No' 'No' 'No' 'No' 'No'\n",
            " 'No' 'No' 'No' 'No' 'No' 'No' 'No' 'No' 'No' 'No' 'No' 'No' 'No' 'No'\n",
            " 'No' 'No' 'No' 'No' 'No' 'No' 'No' 'No' 'No' 'No' 'No' 'No' 'No' 'No'\n",
            " 'No' 'No' 'No' 'No' 'No' 'No' 'No' 'No' 'No' 'No' 'No' 'No' 'No' 'No'\n",
            " 'No' 'No' 'No' 'No' 'No' 'No' 'No' 'No' 'No' 'No' 'No' 'No' 'No' 'No'\n",
            " 'No' 'No' 'No' 'No' 'No' 'No' 'No' 'No' 'No' 'No' 'No' 'No' 'No' 'No'\n",
            " 'No' 'No' 'No' 'No' 'No' 'No' 'No' 'No' 'No' 'No' 'No' 'No' 'No' 'No'\n",
            " 'No' 'No' 'No' 'No' 'No' 'No' 'No' 'No' 'No' 'No' 'No' 'No' 'No' 'No'\n",
            " 'No' 'No' 'No' 'No' 'No' 'No' 'No' 'No' 'No' 'No' 'No' 'No' 'No' 'No'\n",
            " 'No' 'No' 'No' 'No' 'No' 'No' 'No' 'No' 'No' 'No' 'No' 'No' 'No' 'No'\n",
            " 'No' 'No' 'No' 'No' 'No' 'Yes' 'Yes' 'Yes' 'Yes' 'Yes' 'Yes' 'Yes' 'Yes'\n",
            " 'Yes' 'Yes' 'Yes' 'Yes' 'Yes' 'Yes' 'Yes' 'Yes' 'Yes' 'Yes' 'Yes' 'Yes'\n",
            " 'Yes' 'Yes' 'Yes' 'Yes' 'Yes' 'Yes' 'Yes' 'Yes' 'Yes' 'Yes' 'Yes' 'Yes'\n",
            " 'Yes' 'Yes' 'Yes' 'Yes' 'Yes' 'Yes' 'Yes' 'Yes' 'Yes' 'Yes' 'Yes' 'Yes'\n",
            " 'Yes' 'Yes' 'Yes' 'Yes' 'Yes' 'Yes' 'Yes' 'Yes' 'Yes' 'Yes' 'Yes' 'Yes'\n",
            " 'Yes' 'Yes' 'Yes' 'Yes' 'Yes' 'Yes' 'Yes' 'Yes' 'Yes' 'Yes' 'Yes' 'Yes'\n",
            " 'Yes' 'Yes' 'Yes' 'Yes' 'Yes' 'Yes' 'Yes' 'Yes' 'Yes' 'Yes' 'Yes' 'Yes'\n",
            " 'Yes' 'Yes' 'Yes' 'Yes' 'Yes' 'Yes' 'Yes' 'Yes' 'Yes' 'Yes' 'Yes' 'Yes'\n",
            " 'Yes' 'Yes' 'Yes' 'Yes' 'Yes' 'Yes' 'Yes' 'Yes' 'Yes' 'Yes' 'Yes' 'Yes'\n",
            " 'Yes' 'Yes' 'Yes' 'Yes' 'Yes' 'Yes' 'Yes' 'Yes' 'Yes' 'Yes' 'Yes' 'Yes'\n",
            " 'Yes' 'Yes' 'Yes' 'Yes' 'Yes' 'Yes' 'Yes' 'Yes' 'Yes' 'Yes' 'Yes' 'Yes'\n",
            " 'Yes' 'Yes' 'Yes' 'Yes' 'Yes' 'Yes' 'Yes' 'Yes' 'Yes' 'Yes' 'Yes' 'Yes'\n",
            " 'Yes' 'Yes' 'Yes']\n"
          ]
        }
      ]
    },
    {
      "cell_type": "markdown",
      "source": [
        "c. Encode the categorical value of the target column to numerical value"
      ],
      "metadata": {
        "id": "B7mxlB_Xksr2"
      }
    },
    {
      "cell_type": "code",
      "source": [
        "social_networks['Purchased']= social_networks['Purchased'].replace({'M':1, 'B':0})\n",
        "social_networks['Purchased']"
      ],
      "metadata": {
        "colab": {
          "base_uri": "https://localhost:8080/"
        },
        "id": "6hLaUnqIiVEg",
        "outputId": "a9e936e7-2e76-4116-f72c-d15df075f0a3"
      },
      "execution_count": null,
      "outputs": [
        {
          "output_type": "execute_result",
          "data": {
            "text/plain": [
              "0       No\n",
              "1       No\n",
              "2       No\n",
              "3       No\n",
              "4       No\n",
              "      ... \n",
              "395    Yes\n",
              "396    Yes\n",
              "397    Yes\n",
              "398    Yes\n",
              "399    Yes\n",
              "Name: Purchased, Length: 400, dtype: object"
            ]
          },
          "metadata": {},
          "execution_count": 34
        }
      ]
    },
    {
      "cell_type": "markdown",
      "source": [
        "d. Divide the data into training (75%) and testing set (25%)"
      ],
      "metadata": {
        "id": "vnfr2O0sktyL"
      }
    },
    {
      "cell_type": "code",
      "source": [
        "social_networks['Purchased']= social_networks['Purchased'].replace({'M':1, 'B':0}\n",
        "x_train, x_test, y_train, y_test = train_test_split(x, y, test_size = 0.25, random_state=1)\n",
        "print(x_train)"
      ],
      "metadata": {
        "colab": {
          "base_uri": "https://localhost:8080/"
        },
        "id": "a_5sprAEi5Ab",
        "outputId": "86934ff0-aee3-40cc-fd9d-ba12bf62de9f"
      },
      "execution_count": null,
      "outputs": [
        {
          "output_type": "stream",
          "name": "stdout",
          "text": [
            "[[     0     30  79000]\n",
            " [     1     49  89000]\n",
            " [     1     35  53000]\n",
            " [     0     22  63000]\n",
            " [     0     46  96000]\n",
            " [     0     47 107000]\n",
            " [     0     34  72000]\n",
            " [     1     38  71000]\n",
            " [     0     48 138000]\n",
            " [     1     38  61000]\n",
            " [     0     37  57000]\n",
            " [     1     57  60000]\n",
            " [     0     44  39000]\n",
            " [     1     38  51000]\n",
            " [     1     28  79000]\n",
            " [     0     35  60000]\n",
            " [     0     54  26000]\n",
            " [     1     35  75000]\n",
            " [     1     23  63000]\n",
            " [     1     47  34000]\n",
            " [     0     29  83000]\n",
            " [     1     21  72000]\n",
            " [     1     60  34000]\n",
            " [     1     49  65000]\n",
            " [     1     35  91000]\n",
            " [     0     34  25000]\n",
            " [     0     41  72000]\n",
            " [     0     33  51000]\n",
            " [     0     48  30000]\n",
            " [     1     51  23000]\n",
            " [     0     49  36000]\n",
            " [     0     52  38000]\n",
            " [     1     46 117000]\n",
            " [     0     45 131000]\n",
            " [     1     42 149000]\n",
            " [     0     59  88000]\n",
            " [     0     59  42000]\n",
            " [     1     25  33000]\n",
            " [     0     46  74000]\n",
            " [     1     36 118000]\n",
            " [     0     27  54000]\n",
            " [     1     22  81000]\n",
            " [     0     37  80000]\n",
            " [     1     31  74000]\n",
            " [     0     38  50000]\n",
            " [     0     41  51000]\n",
            " [     0     39  79000]\n",
            " [     0     26  72000]\n",
            " [     1     30  87000]\n",
            " [     0     24  32000]\n",
            " [     1     49  88000]\n",
            " [     0     26  43000]\n",
            " [     0     35  57000]\n",
            " [     1     35  59000]\n",
            " [     1     29  43000]\n",
            " [     1     47  20000]\n",
            " [     0     29  47000]\n",
            " [     0     29  28000]\n",
            " [     1     24  58000]\n",
            " [     1     35  72000]\n",
            " [     1     26  15000]\n",
            " [     1     35  79000]\n",
            " [     1     58 144000]\n",
            " [     1     25  79000]\n",
            " [     1     37  75000]\n",
            " [     0     28  37000]\n",
            " [     1     26  81000]\n",
            " [     1     40  75000]\n",
            " [     1     29  61000]\n",
            " [     1     45  79000]\n",
            " [     1     34 112000]\n",
            " [     1     48  33000]\n",
            " [     0     45  45000]\n",
            " [     0     52  90000]\n",
            " [     1     20  74000]\n",
            " [     1     22  18000]\n",
            " [     0     49 141000]\n",
            " [     0     41  72000]\n",
            " [     0     26  17000]\n",
            " [     0     42  70000]\n",
            " [     1     36  52000]\n",
            " [     1     42  65000]\n",
            " [     1     29  80000]\n",
            " [     1     39  96000]\n",
            " [     1     18  52000]\n",
            " [     0     35  23000]\n",
            " [     1     35 108000]\n",
            " [     1     35  88000]\n",
            " [     0     60 108000]\n",
            " [     0     19  21000]\n",
            " [     0     40 142000]\n",
            " [     1     41  79000]\n",
            " [     1     39  77000]\n",
            " [     0     51 134000]\n",
            " [     1     28 123000]\n",
            " [     1     26  86000]\n",
            " [     0     20  82000]\n",
            " [     1     39 122000]\n",
            " [     0     41  71000]\n",
            " [     0     33  28000]\n",
            " [     1     37  70000]\n",
            " [     0     50  44000]\n",
            " [     1     29 148000]\n",
            " [     0     48  35000]\n",
            " [     0     59  29000]\n",
            " [     0     31  68000]\n",
            " [     0     33 113000]\n",
            " [     0     28  55000]\n",
            " [     1     37  52000]\n",
            " [     0     22  27000]\n",
            " [     0     36 126000]\n",
            " [     0     37  71000]\n",
            " [     0     46  41000]\n",
            " [     0     32 150000]\n",
            " [     1     49  28000]\n",
            " [     0     28  87000]\n",
            " [     0     32 117000]\n",
            " [     0     30  62000]\n",
            " [     0     47 113000]\n",
            " [     0     36  50000]\n",
            " [     1     20  49000]\n",
            " [     1     35  20000]\n",
            " [     0     38  80000]\n",
            " [     1     40  61000]\n",
            " [     0     33  69000]\n",
            " [     1     36  33000]\n",
            " [     1     52 150000]\n",
            " [     0     47  30000]\n",
            " [     1     47 105000]\n",
            " [     1     59 130000]\n",
            " [     0     60  46000]\n",
            " [     0     26  35000]\n",
            " [     1     33  43000]\n",
            " [     1     27  89000]\n",
            " [     0     50  20000]\n",
            " [     0     39  71000]\n",
            " [     0     41  60000]\n",
            " [     1     41  59000]\n",
            " [     1     35  58000]\n",
            " [     0     39  75000]\n",
            " [     0     35  44000]\n",
            " [     0     24  55000]\n",
            " [     0     35  77000]\n",
            " [     1     35  73000]\n",
            " [     0     35  71000]\n",
            " [     0     26  84000]\n",
            " [     1     25  90000]\n",
            " [     1     54  70000]\n",
            " [     1     31  18000]\n",
            " [     0     23  66000]\n",
            " [     0     58  23000]\n",
            " [     1     19  25000]\n",
            " [     1     33  31000]\n",
            " [     1     26  16000]\n",
            " [     1     18  82000]\n",
            " [     0     53  34000]\n",
            " [     0     38  55000]\n",
            " [     1     19  70000]\n",
            " [     1     39 106000]\n",
            " [     1     32 120000]\n",
            " [     1     45  22000]\n",
            " [     1     37  74000]\n",
            " [     1     35  39000]\n",
            " [     0     20  82000]\n",
            " [     0     54 108000]\n",
            " [     0     50  36000]\n",
            " [     0     57  26000]\n",
            " [     1     26  32000]\n",
            " [     0     35  50000]\n",
            " [     0     42  75000]\n",
            " [     0     41  63000]\n",
            " [     0     58  38000]\n",
            " [     1     38  61000]\n",
            " [     1     30 107000]\n",
            " [     0     21  68000]\n",
            " [     1     40  59000]\n",
            " [     1     31  76000]\n",
            " [     1     26  30000]\n",
            " [     1     30  17000]\n",
            " [     0     57  33000]\n",
            " [     0     43 133000]\n",
            " [     1     47  43000]\n",
            " [     1     27  58000]\n",
            " [     0     47 144000]\n",
            " [     0     24  89000]\n",
            " [     0     37  80000]\n",
            " [     1     41  45000]\n",
            " [     1     35  27000]\n",
            " [     1     27  20000]\n",
            " [     1     34 115000]\n",
            " [     1     25  80000]\n",
            " [     0     44 139000]\n",
            " [     0     27  31000]\n",
            " [     0     58 101000]\n",
            " [     0     41  72000]\n",
            " [     1     24  84000]\n",
            " [     1     35  55000]\n",
            " [     0     28  59000]\n",
            " [     0     54 104000]\n",
            " [     0     28  85000]\n",
            " [     1     36 144000]\n",
            " [     0     27  58000]\n",
            " [     1     60 102000]\n",
            " [     0     35  47000]\n",
            " [     1     35  38000]\n",
            " [     0     31  71000]\n",
            " [     0     31 118000]\n",
            " [     1     56  60000]\n",
            " [     1     25  87000]\n",
            " [     1     45  32000]\n",
            " [     0     27  84000]\n",
            " [     0     39  61000]\n",
            " [     0     27 137000]\n",
            " [     1     38  71000]\n",
            " [     0     47  49000]\n",
            " [     1     31  58000]\n",
            " [     1     24  19000]\n",
            " [     1     57  74000]\n",
            " [     0     37 137000]\n",
            " [     1     30  89000]\n",
            " [     0     23  28000]\n",
            " [     1     41  72000]\n",
            " [     1     43 129000]\n",
            " [     0     46  22000]\n",
            " [     1     42  54000]\n",
            " [     1     30  15000]\n",
            " [     1     47  25000]\n",
            " [     0     32 135000]\n",
            " [     0     55 125000]\n",
            " [     1     29  43000]\n",
            " [     1     28  59000]\n",
            " [     0     20  36000]\n",
            " [     1     49  86000]\n",
            " [     1     30  80000]\n",
            " [     0     56 104000]\n",
            " [     0     39  59000]\n",
            " [     1     40  47000]\n",
            " [     0     27  96000]\n",
            " [     1     42  73000]\n",
            " [     0     37  62000]\n",
            " [     1     32  18000]\n",
            " [     0     35  97000]\n",
            " [     1     38  59000]\n",
            " [     0     59  83000]\n",
            " [     1     46  59000]\n",
            " [     0     31  15000]\n",
            " [     0     31  89000]\n",
            " [     0     37  93000]\n",
            " [     0     38  50000]\n",
            " [     1     46  28000]\n",
            " [     0     53  82000]\n",
            " [     0     23  82000]\n",
            " [     0     31  34000]\n",
            " [     0     32  86000]\n",
            " [     0     51 146000]\n",
            " [     0     35  65000]\n",
            " [     1     55  39000]\n",
            " [     0     36  75000]\n",
            " [     1     46  88000]\n",
            " [     0     20  23000]\n",
            " [     0     42  79000]\n",
            " [     0     36  54000]\n",
            " [     1     36 125000]\n",
            " [     1     35  22000]\n",
            " [     0     33 149000]\n",
            " [     1     28  32000]\n",
            " [     0     38 113000]\n",
            " [     0     27  57000]\n",
            " [     0     53 104000]\n",
            " [     0     23  48000]\n",
            " [     0     42  90000]\n",
            " [     0     47  50000]\n",
            " [     0     28  44000]\n",
            " [     1     30  49000]\n",
            " [     0     52 114000]\n",
            " [     1     37 144000]\n",
            " [     1     36  60000]\n",
            " [     1     26  80000]\n",
            " [     0     22  55000]\n",
            " [     0     40  75000]\n",
            " [     1     39  42000]\n",
            " [     1     42  54000]\n",
            " [     1     46  79000]\n",
            " [     1     42  64000]\n",
            " [     0     35 147000]\n",
            " [     1     37  72000]\n",
            " [     0     57 122000]\n",
            " [     1     37  77000]\n",
            " [     0     26 118000]\n",
            " [     1     19  76000]\n",
            " [     1     23  20000]\n",
            " [     1     45  26000]\n",
            " [     1     32  18000]\n",
            " [     1     25  22000]\n",
            " [     1     49  28000]\n",
            " [     1     39  71000]\n",
            " [     0     34  43000]\n",
            " [     1     48  33000]\n",
            " [     1     48 141000]\n",
            " [     0     30 116000]]\n"
          ]
        }
      ]
    },
    {
      "cell_type": "markdown",
      "source": [
        "e. Perform the classification with K=3"
      ],
      "metadata": {
        "id": "jYZC9UqPkuz3"
      }
    },
    {
      "cell_type": "code",
      "source": [
        "knn = KNeighborsClassifier(n_neighbors=3)\n",
        "knn.fit(x_train,y_train)\n",
        "\n",
        "y_pred = knn.predict(x_train)\n",
        "print(y_pred)\n",
        "print(y_test)"
      ],
      "metadata": {
        "colab": {
          "base_uri": "https://localhost:8080/"
        },
        "id": "chAi4VdLjL1I",
        "outputId": "45f5610a-7ef1-4ff1-fd64-67cdb7c0596e"
      },
      "execution_count": null,
      "outputs": [
        {
          "output_type": "stream",
          "name": "stdout",
          "text": [
            "['No' 'No' 'No' 'No' 'Yes' 'Yes' 'No' 'No' 'Yes' 'No' 'No' 'Yes' 'No' 'No'\n",
            " 'No' 'No' 'Yes' 'No' 'No' 'Yes' 'No' 'No' 'Yes' 'No' 'Yes' 'No' 'No' 'No'\n",
            " 'Yes' 'Yes' 'Yes' 'Yes' 'Yes' 'Yes' 'Yes' 'Yes' 'No' 'No' 'No' 'Yes' 'No'\n",
            " 'No' 'No' 'No' 'No' 'No' 'No' 'No' 'No' 'No' 'Yes' 'No' 'No' 'No' 'No'\n",
            " 'Yes' 'No' 'No' 'No' 'No' 'No' 'No' 'Yes' 'No' 'No' 'No' 'No' 'No' 'No'\n",
            " 'No' 'Yes' 'Yes' 'No' 'Yes' 'No' 'No' 'Yes' 'No' 'No' 'Yes' 'No' 'No'\n",
            " 'No' 'Yes' 'No' 'No' 'Yes' 'Yes' 'Yes' 'No' 'Yes' 'No' 'No' 'No' 'Yes'\n",
            " 'No' 'No' 'Yes' 'No' 'No' 'Yes' 'No' 'Yes' 'Yes' 'Yes' 'No' 'Yes' 'No'\n",
            " 'No' 'No' 'Yes' 'No' 'No' 'Yes' 'Yes' 'No' 'Yes' 'No' 'Yes' 'No' 'No'\n",
            " 'No' 'No' 'No' 'No' 'No' 'Yes' 'Yes' 'Yes' 'Yes' 'Yes' 'No' 'No' 'No'\n",
            " 'Yes' 'No' 'No' 'No' 'No' 'No' 'No' 'No' 'No' 'No' 'No' 'No' 'Yes' 'Yes'\n",
            " 'No' 'No' 'Yes' 'No' 'No' 'No' 'No' 'Yes' 'No' 'No' 'Yes' 'Yes' 'No' 'No'\n",
            " 'No' 'No' 'Yes' 'Yes' 'Yes' 'No' 'No' 'No' 'No' 'Yes' 'No' 'Yes' 'No'\n",
            " 'No' 'No' 'Yes' 'No' 'Yes' 'No' 'No' 'No' 'Yes' 'No' 'No' 'No' 'No' 'No'\n",
            " 'No' 'No' 'Yes' 'No' 'Yes' 'No' 'No' 'No' 'No' 'Yes' 'No' 'Yes' 'No'\n",
            " 'Yes' 'No' 'Yes' 'No' 'Yes' 'Yes' 'No' 'No' 'No' 'No' 'Yes' 'No' 'No'\n",
            " 'No' 'No' 'No' 'Yes' 'No' 'No' 'No' 'Yes' 'No' 'No' 'No' 'No' 'Yes' 'Yes'\n",
            " 'No' 'No' 'Yes' 'No' 'No' 'Yes' 'No' 'No' 'Yes' 'No' 'No' 'No' 'Yes' 'No'\n",
            " 'No' 'No' 'No' 'No' 'Yes' 'No' 'Yes' 'No' 'No' 'Yes' 'No' 'Yes' 'No' 'No'\n",
            " 'No' 'Yes' 'No' 'No' 'No' 'Yes' 'No' 'Yes' 'No' 'Yes' 'No' 'Yes' 'No'\n",
            " 'Yes' 'No' 'No' 'No' 'Yes' 'Yes' 'No' 'No' 'No' 'No' 'No' 'No' 'No' 'No'\n",
            " 'Yes' 'No' 'Yes' 'No' 'Yes' 'No' 'No' 'Yes' 'No' 'No' 'Yes' 'No' 'No'\n",
            " 'Yes' 'Yes' 'No']\n",
            "['Yes' 'No' 'Yes' 'Yes' 'No' 'Yes' 'No' 'Yes' 'No' 'Yes' 'No' 'Yes' 'No'\n",
            " 'Yes' 'Yes' 'No' 'Yes' 'No' 'No' 'No' 'No' 'No' 'Yes' 'No' 'No' 'No'\n",
            " 'Yes' 'No' 'Yes' 'No' 'No' 'No' 'No' 'Yes' 'No' 'No' 'No' 'No' 'Yes' 'No'\n",
            " 'Yes' 'No' 'No' 'No' 'Yes' 'No' 'Yes' 'Yes' 'Yes' 'Yes' 'No' 'No' 'No'\n",
            " 'No' 'Yes' 'Yes' 'Yes' 'No' 'Yes' 'Yes' 'No' 'No' 'No' 'No' 'Yes' 'No'\n",
            " 'No' 'Yes' 'Yes' 'Yes' 'No' 'No' 'Yes' 'Yes' 'No' 'Yes' 'No' 'No' 'No'\n",
            " 'No' 'No' 'No' 'Yes' 'No' 'No' 'No' 'Yes' 'No' 'Yes' 'No' 'No' 'Yes'\n",
            " 'Yes' 'Yes' 'No' 'Yes' 'Yes' 'Yes' 'Yes' 'No']\n"
          ]
        }
      ]
    },
    {
      "cell_type": "code",
      "source": [
        "from sklearn.metrics import confusion_matrix\n",
        "from sklearn.metrics import accuracy_score\n",
        "from sklearn.metrics import classification_report, roc_curve, auc\n",
        "import matplotlib.pyplot as plt\n",
        "\n",
        "conf_matrix = confusion_matrix(y_test,y_pred)\n",
        "accuracy = accuracy_score(y_test,y_pred)\n",
        "report = classification_report(y_test,y_pred)\n",
        "\n",
        "tn, fp, fn, tp = conf_matrix.ravel()\n",
        "specificity = tn / (tn + fp)\n",
        "recall = tp / (tp + fn)\n",
        "precision = tp / (tp + fp)\n",
        "f1_score = 2 * precision * recall / (precision + recall)\n",
        "\n",
        "y_pred_proba = knn.predict_proba(x_test)\n",
        "fpr, tpr, thresholds = roc_curve(y_test, y_pred_proba[:, 1])\n",
        "auc_score = auc(fpr, tpr)\n",
        "plt.plot(fpr, tpr, label='ROC curve (area = %0.2f)' % auc_score)\n",
        "plt.plot([0, 1], [0, 1], 'k--')\n",
        "plt.xlabel('False Positive Rate')\n",
        "plt.ylabel('True Positive Rate')\n",
        "plt.title('Receiver Operating Characteristic (ROC) Curve')\n",
        "plt.legend(loc=\"lower right\")\n",
        "plt.show()\n",
        "\n",
        "print(\"Confusion Matrix:\\n\",conf_matrix)\n",
        "print(\"Accuracy: \",accuracy)\n",
        "print(\"Specificity: \",specificity)\n",
        "print(\"Recall: \",recall)\n",
        "print(\"Precision: \",precision)\n",
        "print(\"F1-score: \",f1_score)\n",
        "print(\"Classification Report:\\n\",report)\n",
        "print(\"AUC score: \",auc_score)\n",
        "print(\"True positive: \",tp)\n",
        "print(\"True negative: \",tn)"
      ],
      "metadata": {
        "colab": {
          "base_uri": "https://localhost:8080/",
          "height": 391
        },
        "id": "YKUyZbPGjOrM",
        "outputId": "d24d23e1-95d9-4fbc-8d80-27285d4c8e34"
      },
      "execution_count": null,
      "outputs": [
        {
          "output_type": "error",
          "ename": "ValueError",
          "evalue": "ignored",
          "traceback": [
            "\u001b[0;31m---------------------------------------------------------------------------\u001b[0m",
            "\u001b[0;31mValueError\u001b[0m                                Traceback (most recent call last)",
            "\u001b[0;32m<ipython-input-53-c4990de9d0c0>\u001b[0m in \u001b[0;36m<module>\u001b[0;34m\u001b[0m\n\u001b[1;32m      4\u001b[0m \u001b[0;32mimport\u001b[0m \u001b[0mmatplotlib\u001b[0m\u001b[0;34m.\u001b[0m\u001b[0mpyplot\u001b[0m \u001b[0;32mas\u001b[0m \u001b[0mplt\u001b[0m\u001b[0;34m\u001b[0m\u001b[0;34m\u001b[0m\u001b[0m\n\u001b[1;32m      5\u001b[0m \u001b[0;34m\u001b[0m\u001b[0m\n\u001b[0;32m----> 6\u001b[0;31m \u001b[0mconf_matrix\u001b[0m \u001b[0;34m=\u001b[0m \u001b[0mconfusion_matrix\u001b[0m\u001b[0;34m(\u001b[0m\u001b[0my_test\u001b[0m\u001b[0;34m,\u001b[0m\u001b[0my_pred\u001b[0m\u001b[0;34m)\u001b[0m\u001b[0;34m\u001b[0m\u001b[0;34m\u001b[0m\u001b[0m\n\u001b[0m\u001b[1;32m      7\u001b[0m \u001b[0maccuracy\u001b[0m \u001b[0;34m=\u001b[0m \u001b[0maccuracy_score\u001b[0m\u001b[0;34m(\u001b[0m\u001b[0my_test\u001b[0m\u001b[0;34m,\u001b[0m\u001b[0my_pred\u001b[0m\u001b[0;34m)\u001b[0m\u001b[0;34m\u001b[0m\u001b[0;34m\u001b[0m\u001b[0m\n\u001b[1;32m      8\u001b[0m \u001b[0mreport\u001b[0m \u001b[0;34m=\u001b[0m \u001b[0mclassification_report\u001b[0m\u001b[0;34m(\u001b[0m\u001b[0my_test\u001b[0m\u001b[0;34m,\u001b[0m\u001b[0my_pred\u001b[0m\u001b[0;34m)\u001b[0m\u001b[0;34m\u001b[0m\u001b[0;34m\u001b[0m\u001b[0m\n",
            "\u001b[0;32m/usr/local/lib/python3.8/dist-packages/sklearn/metrics/_classification.py\u001b[0m in \u001b[0;36mconfusion_matrix\u001b[0;34m(y_true, y_pred, labels, sample_weight, normalize)\u001b[0m\n\u001b[1;32m    315\u001b[0m     \u001b[0;34m(\u001b[0m\u001b[0;36m0\u001b[0m\u001b[0;34m,\u001b[0m \u001b[0;36m2\u001b[0m\u001b[0;34m,\u001b[0m \u001b[0;36m1\u001b[0m\u001b[0;34m,\u001b[0m \u001b[0;36m1\u001b[0m\u001b[0;34m)\u001b[0m\u001b[0;34m\u001b[0m\u001b[0;34m\u001b[0m\u001b[0m\n\u001b[1;32m    316\u001b[0m     \"\"\"\n\u001b[0;32m--> 317\u001b[0;31m     \u001b[0my_type\u001b[0m\u001b[0;34m,\u001b[0m \u001b[0my_true\u001b[0m\u001b[0;34m,\u001b[0m \u001b[0my_pred\u001b[0m \u001b[0;34m=\u001b[0m \u001b[0m_check_targets\u001b[0m\u001b[0;34m(\u001b[0m\u001b[0my_true\u001b[0m\u001b[0;34m,\u001b[0m \u001b[0my_pred\u001b[0m\u001b[0;34m)\u001b[0m\u001b[0;34m\u001b[0m\u001b[0;34m\u001b[0m\u001b[0m\n\u001b[0m\u001b[1;32m    318\u001b[0m     \u001b[0;32mif\u001b[0m \u001b[0my_type\u001b[0m \u001b[0;32mnot\u001b[0m \u001b[0;32min\u001b[0m \u001b[0;34m(\u001b[0m\u001b[0;34m\"binary\"\u001b[0m\u001b[0;34m,\u001b[0m \u001b[0;34m\"multiclass\"\u001b[0m\u001b[0;34m)\u001b[0m\u001b[0;34m:\u001b[0m\u001b[0;34m\u001b[0m\u001b[0;34m\u001b[0m\u001b[0m\n\u001b[1;32m    319\u001b[0m         \u001b[0;32mraise\u001b[0m \u001b[0mValueError\u001b[0m\u001b[0;34m(\u001b[0m\u001b[0;34m\"%s is not supported\"\u001b[0m \u001b[0;34m%\u001b[0m \u001b[0my_type\u001b[0m\u001b[0;34m)\u001b[0m\u001b[0;34m\u001b[0m\u001b[0;34m\u001b[0m\u001b[0m\n",
            "\u001b[0;32m/usr/local/lib/python3.8/dist-packages/sklearn/metrics/_classification.py\u001b[0m in \u001b[0;36m_check_targets\u001b[0;34m(y_true, y_pred)\u001b[0m\n\u001b[1;32m     84\u001b[0m     \u001b[0my_pred\u001b[0m \u001b[0;34m:\u001b[0m \u001b[0marray\u001b[0m \u001b[0;32mor\u001b[0m \u001b[0mindicator\u001b[0m \u001b[0mmatrix\u001b[0m\u001b[0;34m\u001b[0m\u001b[0;34m\u001b[0m\u001b[0m\n\u001b[1;32m     85\u001b[0m     \"\"\"\n\u001b[0;32m---> 86\u001b[0;31m     \u001b[0mcheck_consistent_length\u001b[0m\u001b[0;34m(\u001b[0m\u001b[0my_true\u001b[0m\u001b[0;34m,\u001b[0m \u001b[0my_pred\u001b[0m\u001b[0;34m)\u001b[0m\u001b[0;34m\u001b[0m\u001b[0;34m\u001b[0m\u001b[0m\n\u001b[0m\u001b[1;32m     87\u001b[0m     \u001b[0mtype_true\u001b[0m \u001b[0;34m=\u001b[0m \u001b[0mtype_of_target\u001b[0m\u001b[0;34m(\u001b[0m\u001b[0my_true\u001b[0m\u001b[0;34m,\u001b[0m \u001b[0minput_name\u001b[0m\u001b[0;34m=\u001b[0m\u001b[0;34m\"y_true\"\u001b[0m\u001b[0;34m)\u001b[0m\u001b[0;34m\u001b[0m\u001b[0;34m\u001b[0m\u001b[0m\n\u001b[1;32m     88\u001b[0m     \u001b[0mtype_pred\u001b[0m \u001b[0;34m=\u001b[0m \u001b[0mtype_of_target\u001b[0m\u001b[0;34m(\u001b[0m\u001b[0my_pred\u001b[0m\u001b[0;34m,\u001b[0m \u001b[0minput_name\u001b[0m\u001b[0;34m=\u001b[0m\u001b[0;34m\"y_pred\"\u001b[0m\u001b[0;34m)\u001b[0m\u001b[0;34m\u001b[0m\u001b[0;34m\u001b[0m\u001b[0m\n",
            "\u001b[0;32m/usr/local/lib/python3.8/dist-packages/sklearn/utils/validation.py\u001b[0m in \u001b[0;36mcheck_consistent_length\u001b[0;34m(*arrays)\u001b[0m\n\u001b[1;32m    395\u001b[0m     \u001b[0muniques\u001b[0m \u001b[0;34m=\u001b[0m \u001b[0mnp\u001b[0m\u001b[0;34m.\u001b[0m\u001b[0munique\u001b[0m\u001b[0;34m(\u001b[0m\u001b[0mlengths\u001b[0m\u001b[0;34m)\u001b[0m\u001b[0;34m\u001b[0m\u001b[0;34m\u001b[0m\u001b[0m\n\u001b[1;32m    396\u001b[0m     \u001b[0;32mif\u001b[0m \u001b[0mlen\u001b[0m\u001b[0;34m(\u001b[0m\u001b[0muniques\u001b[0m\u001b[0;34m)\u001b[0m \u001b[0;34m>\u001b[0m \u001b[0;36m1\u001b[0m\u001b[0;34m:\u001b[0m\u001b[0;34m\u001b[0m\u001b[0;34m\u001b[0m\u001b[0m\n\u001b[0;32m--> 397\u001b[0;31m         raise ValueError(\n\u001b[0m\u001b[1;32m    398\u001b[0m             \u001b[0;34m\"Found input variables with inconsistent numbers of samples: %r\"\u001b[0m\u001b[0;34m\u001b[0m\u001b[0;34m\u001b[0m\u001b[0m\n\u001b[1;32m    399\u001b[0m             \u001b[0;34m%\u001b[0m \u001b[0;34m[\u001b[0m\u001b[0mint\u001b[0m\u001b[0;34m(\u001b[0m\u001b[0ml\u001b[0m\u001b[0;34m)\u001b[0m \u001b[0;32mfor\u001b[0m \u001b[0ml\u001b[0m \u001b[0;32min\u001b[0m \u001b[0mlengths\u001b[0m\u001b[0;34m]\u001b[0m\u001b[0;34m\u001b[0m\u001b[0;34m\u001b[0m\u001b[0m\n",
            "\u001b[0;31mValueError\u001b[0m: Found input variables with inconsistent numbers of samples: [100, 300]"
          ]
        }
      ]
    },
    {
      "cell_type": "code",
      "source": [],
      "metadata": {
        "id": "CscbyOXBkK26"
      },
      "execution_count": null,
      "outputs": []
    }
  ]
}